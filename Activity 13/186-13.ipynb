{
 "cells": [
  {
   "cell_type": "code",
   "execution_count": 20,
   "metadata": {
    "ExecuteTime": {
     "end_time": "2019-10-28T08:39:42.659484Z",
     "start_time": "2019-10-28T08:39:11.665292Z"
    }
   },
   "outputs": [],
   "source": [
    "import os\n",
    "import numpy as np\n",
    "import numpy.random as rand\n",
    "from matplotlib import pyplot as plt\n",
    "from mpl_toolkits.mplot3d import Axes3D\n",
    "from skimage import measure as meas, feature as feat\n",
    "import cv2 as cv\n",
    "from tqdm import tnrange, tqdm_notebook as tqdm\n",
    "import pandas as pd"
   ]
  },
  {
   "cell_type": "code",
   "execution_count": 21,
   "metadata": {
    "ExecuteTime": {
     "end_time": "2019-10-28T08:41:50.382538Z",
     "start_time": "2019-10-28T08:41:50.372538Z"
    }
   },
   "outputs": [],
   "source": [
    "plt.rcParams[\"axes.axisbelow\"] = True\n",
    "plt.rcParams[\"figure.figsize\"] = (5, 5)\n",
    "plt.rcParams[\"figure.dpi\"] = 100"
   ]
  },
  {
   "cell_type": "code",
   "execution_count": 22,
   "metadata": {},
   "outputs": [],
   "source": [
    "banana = pd.read_csv('banana.csv')\n",
    "orange = pd.read_csv('orange.csv')\n",
    "green_apple = pd.read_csv('green_apple.csv')"
   ]
  },
  {
   "cell_type": "code",
   "execution_count": 37,
   "metadata": {
    "ExecuteTime": {
     "end_time": "2019-10-28T08:41:51.084469Z",
     "start_time": "2019-10-28T08:41:51.057421Z"
    }
   },
   "outputs": [],
   "source": [
    "ban_a, ban_b, ban_c = np.array(banana['eccentricity']), np.array(banana['r']), np.array(banana['g'])\n",
    "ora_a, ora_b, ora_c = np.array(orange['eccentricity']), np.array(orange['r']), np.array(orange['g'])\n",
    "app_a, app_b, app_c = np.array(green_apple['eccentricity']), np.array(green_apple['r']), np.array(green_apple['g'])"
   ]
  },
  {
   "cell_type": "code",
   "execution_count": 38,
   "metadata": {
    "ExecuteTime": {
     "end_time": "2019-10-28T08:41:58.021568Z",
     "start_time": "2019-10-28T08:41:53.085438Z"
    }
   },
   "outputs": [
    {
     "data": {
      "image/png": "[encoded data removed]",
      "text/plain": [
       "<Figure size 500x500 with 1 Axes>"
      ]
     },
     "metadata": {
      "needs_background": "light"
     },
     "output_type": "display_data"
    }
   ],
   "source": [
    "plt.plot(ban_a, ban_b, 'o', color='yellow')\n",
    "plt.plot(app_a, app_b, 'go')\n",
    "plt.plot(ora_a, ora_b, 'o', color='orange')\n",
    "plt.legend(['banana', 'apple', 'orange'])\n",
    "plt.xlabel('eccentricity')\n",
    "plt.ylabel('r')\n",
    "plt.xlim(-0.05,1)\n",
    "plt.ylim(-0.05,1)\n",
    "# plt.savefig('ab-space.png', dpi=300, bbox_inches='tight')\n",
    "plt.show()"
   ]
  },
  {
   "cell_type": "code",
   "execution_count": 39,
   "metadata": {
    "ExecuteTime": {
     "end_time": "2019-10-28T08:48:44.675492Z",
     "start_time": "2019-10-28T08:48:44.660493Z"
    }
   },
   "outputs": [],
   "source": [
    "class MCPerceptron:\n",
    "    def __init__(self,\n",
    "                 input_shape, \n",
    "                 output_shape,\n",
    "                 epochs,\n",
    "                 activation='step',\n",
    "                 lr=0.01,\n",
    "                 eps=1e-6,\n",
    "                 weight_initializer='random_uniform'):\n",
    "        rand.seed(101)\n",
    "        self.input_shape = input_shape\n",
    "        self.output_shape = output_shape\n",
    "        self.epochs = epochs\n",
    "        self.activation = activation\n",
    "        self.lr = lr\n",
    "        self.eps = eps\n",
    "        self.weight_initializer = weight_initializer\n",
    "        \n",
    "        if self.weight_initializer == 'random_uniform':\n",
    "            self.W = rand.random(self.input_shape[1])\n",
    "        elif self.weight_initializer == 'random_normal':\n",
    "            self.W = rand.normal((0, 1, (self.input_shape[1])))\n",
    "\n",
    "        if self.activation == 'step':\n",
    "            self.g = lambda a: 1 if a >= 0 else -1\n",
    "\n",
    "    def train(self, x, y):\n",
    "        self.graph_res = []\n",
    "        for count in tnrange(self.epochs, desc='Epoch'):\n",
    "            res = 0\n",
    "            for i in range(self.input_shape[0]):\n",
    "                a = x[i].T.dot(self.W)\n",
    "                z = self.g(a)\n",
    "                dW = self.lr * (y[i] - z) * x[i]\n",
    "                self.W += dW\n",
    "                res += (y[i] - z)**2\n",
    "            res /= self.input_shape[0]\n",
    "            self.graph_res.append(res)\n",
    "            if res < self.eps:\n",
    "                break\n",
    "        self.last_epoch = count + 1\n",
    "                 \n",
    "    def predict(self, x):\n",
    "        y = np.zeros(x.shape[0])\n",
    "        for i in range(x.shape[0]):\n",
    "            f = x[i].dot(self.W)\n",
    "            y[i] = self.g(f)\n",
    "        return y\n",
    "                \n",
    "    def get_weights(self):\n",
    "        return self.W\n",
    "    \n",
    "    def get_biases(self):\n",
    "        return self.x.T[0]\n",
    "\n",
    "    def get_line_params(self):\n",
    "        W = self.W\n",
    "        A, B, C = W[1], W[2], -W[0]\n",
    "        m = -A/B\n",
    "        b = C/B\n",
    "        return m, b\n",
    "    \n",
    "    def save_weights(self, filename):\n",
    "        np.save(filename, self.W)\n",
    "        \n",
    "    def load_weights(self, filename):\n",
    "        self.W = np.load(filename)"
   ]
  },
  {
   "cell_type": "code",
   "execution_count": 40,
   "metadata": {
    "ExecuteTime": {
     "end_time": "2019-10-28T08:48:47.303410Z",
     "start_time": "2019-10-28T08:48:47.299436Z"
    }
   },
   "outputs": [],
   "source": [
    "bounds = np.zeros(3, object)"
   ]
  },
  {
   "cell_type": "code",
   "execution_count": 41,
   "metadata": {
    "ExecuteTime": {
     "end_time": "2019-10-28T08:48:47.866494Z",
     "start_time": "2019-10-28T08:48:47.484436Z"
    }
   },
   "outputs": [
    {
     "data": {
      "application/vnd.jupyter.widget-view+json": {
       "model_id": "15f9f10433c94e688c93574c82938e52",
       "version_major": 2,
       "version_minor": 0
      },
      "text/plain": [
       "HBox(children=(IntProgress(value=0, description='Epoch', max=1000, style=ProgressStyle(description_width='init…"
      ]
     },
     "metadata": {},
     "output_type": "display_data"
    },
    {
     "name": "stderr",
     "output_type": "stream",
     "text": [
      "/Users/kleo/opt/anaconda3/lib/python3.7/site-packages/ipykernel_launcher.py:17: UserWarning: No contour levels were found within the data range.\n"
     ]
    },
    {
     "name": "stdout",
     "output_type": "stream",
     "text": [
      "\n"
     ]
    },
    {
     "data": {
      "image/png": "[encoded data removed]",
      "text/plain": [
       "<Figure size 500x500 with 1 Axes>"
      ]
     },
     "metadata": {
      "needs_background": "light"
     },
     "output_type": "display_data"
    }
   ],
   "source": [
    "x = np.hstack(([ban_a, ban_b], [app_a, app_b])).T\n",
    "x = np.column_stack((np.ones(x.shape[0]), x))\n",
    "y = np.hstack((np.tile([1], 50), np.tile([-1], 50))).T\n",
    "mcp = MCPerceptron(x.shape, y.shape, epochs=1000, lr=1e-1)\n",
    "mcp.train(x, y)\n",
    "W = mcp.get_weights()\n",
    "\n",
    "xmin, xmax = np.min((ban_a, app_a))-5e-3, np.max((ban_a, app_a))+5e-3\n",
    "ymin, ymax = np.min((ban_b, app_b))-5e-3, np.max((ban_b, app_b))+5e-3\n",
    "db_x = np.linspace(xmin, xmax, 100)\n",
    "db_y = np.linspace(ymin, ymax, 100)\n",
    "xx, yy = np.meshgrid(db_x, db_y)\n",
    "Z = mcp.predict(np.c_[np.ones_like(xx.ravel()), xx.ravel(), yy.ravel()])\n",
    "Z = Z.reshape(xx.shape)\n",
    "\n",
    "plt.contourf(xx, yy, Z, cmap='YlOrRd_r', alpha=0.4)\n",
    "plt.contour(xx, yy, Z, colors='k', linewidths=0.5)\n",
    "plt.plot(ban_a, ban_b, 'yo', mec='k', mew=0.5, label='banana')\n",
    "plt.plot(app_a, app_b, 'ro', mec='k', mew=0.5, label='apple')\n",
    "\n",
    "decision_boundary = mcp.get_line_params()\n",
    "bounds[0] = decision_boundary\n",
    "decision_title = 'decision boundary: $y = %.2fx + %.2f$' if decision_boundary[1] >= 0 \\\n",
    "                 else 'decision boundary: $y = %.2fx - %.2f$'\n",
    "plt.title(decision_title %(decision_boundary[0], abs(decision_boundary[1])))\n",
    "plt.legend()\n",
    "plt.xlabel('$a^*$')\n",
    "plt.ylabel('$b^*$')\n",
    "plt.xlim(xmin, xmax)\n",
    "plt.ylim(ymin, ymax)\n",
    "# plt.savefig('ban-app_decision.png', dpi=300, bbox_inches='tight')\n",
    "plt.show()"
   ]
  },
  {
   "cell_type": "code",
   "execution_count": 28,
   "metadata": {
    "ExecuteTime": {
     "end_time": "2019-10-28T08:46:12.558255Z",
     "start_time": "2019-10-28T08:46:12.197766Z"
    }
   },
   "outputs": [
    {
     "data": {
      "application/vnd.jupyter.widget-view+json": {
       "model_id": "2ebab3baf6ae4ed7b5d72956616e24e7",
       "version_major": 2,
       "version_minor": 0
      },
      "text/plain": [
       "HBox(children=(IntProgress(value=0, description='Epoch', style=ProgressStyle(description_width='initial')), HT…"
      ]
     },
     "metadata": {},
     "output_type": "display_data"
    },
    {
     "name": "stderr",
     "output_type": "stream",
     "text": [
      "/Users/kleo/opt/anaconda3/lib/python3.7/site-packages/ipykernel_launcher.py:17: UserWarning: No contour levels were found within the data range.\n"
     ]
    },
    {
     "name": "stdout",
     "output_type": "stream",
     "text": [
      "\n"
     ]
    },
    {
     "data": {
      "image/png": "[encoded data removed]",
      "text/plain": [
       "<Figure size 500x500 with 1 Axes>"
      ]
     },
     "metadata": {
      "needs_background": "light"
     },
     "output_type": "display_data"
    }
   ],
   "source": [
    "x = np.hstack(([ban_a, ban_b], [ora_a, ora_b])).T\n",
    "x = np.column_stack((np.ones(x.shape[0]), x))\n",
    "y = np.hstack((np.tile([1], 50), np.tile([-1], 50))).T\n",
    "mcp = MCPerceptron(x.shape, y.shape, epochs=100, lr=1e-1)\n",
    "mcp.train(x, y)\n",
    "W = mcp.get_weights()\n",
    "\n",
    "xmin, xmax = np.min((ban_a, ora_a))-5e-3, np.max((ban_a, ora_a))+5e-3\n",
    "ymin, ymax = np.min((ban_b, ora_b))-5e-3, np.max((ban_b, ora_b))+5e-3\n",
    "db_x = np.linspace(xmin, xmax, 100)\n",
    "db_y = np.linspace(ymin, ymax, 100)\n",
    "xx, yy = np.meshgrid(db_x, db_y)\n",
    "Z = mcp.predict(np.c_[np.ones_like(xx.ravel()), xx.ravel(), yy.ravel()])\n",
    "Z = Z.reshape(xx.shape)\n",
    "\n",
    "plt.contourf(xx, yy, Z, cmap='YlOrRd_r', alpha=0.4)\n",
    "plt.contour(xx, yy, Z, colors='k', linewidths=0.5)\n",
    "plt.plot(ban_a, ban_b, 'yo', mec='k', mew=0.5, label='banana')\n",
    "plt.plot(ora_a, ora_b, 'o', color='orange', mec='k', mew=0.5, label='orange')\n",
    "\n",
    "decision_boundary = mcp.get_line_params()\n",
    "bounds[1] = decision_boundary\n",
    "decision_title = 'decision boundary: $y = %.2fx + %.2f$' if decision_boundary[1] >= 0 \\\n",
    "                 else 'decision boundary: $y = %.2fx - %.2f$'\n",
    "plt.title(decision_title %(decision_boundary[0], abs(decision_boundary[1])))\n",
    "plt.legend()\n",
    "plt.xlabel('$a^*$')\n",
    "plt.ylabel('$b^*$')\n",
    "plt.xlim(xmin, xmax)\n",
    "plt.ylim(ymin, ymax)\n",
    "# plt.savefig('ban-ora_decision.png', dpi=300, bbox_inches='tight')\n",
    "plt.show()"
   ]
  },
  {
   "cell_type": "code",
   "execution_count": 29,
   "metadata": {
    "ExecuteTime": {
     "end_time": "2019-10-28T08:46:36.505061Z",
     "start_time": "2019-10-28T08:46:36.004599Z"
    }
   },
   "outputs": [
    {
     "data": {
      "application/vnd.jupyter.widget-view+json": {
       "model_id": "2caac0870f044a0e8af46480c83decb0",
       "version_major": 2,
       "version_minor": 0
      },
      "text/plain": [
       "HBox(children=(IntProgress(value=0, description='Epoch', style=ProgressStyle(description_width='initial')), HT…"
      ]
     },
     "metadata": {},
     "output_type": "display_data"
    },
    {
     "name": "stdout",
     "output_type": "stream",
     "text": [
      "\n"
     ]
    },
    {
     "name": "stderr",
     "output_type": "stream",
     "text": [
      "/Users/kleo/opt/anaconda3/lib/python3.7/site-packages/ipykernel_launcher.py:17: UserWarning: No contour levels were found within the data range.\n"
     ]
    },
    {
     "data": {
      "image/png": "[encoded data removed]",
      "text/plain": [
       "<Figure size 500x500 with 1 Axes>"
      ]
     },
     "metadata": {
      "needs_background": "light"
     },
     "output_type": "display_data"
    }
   ],
   "source": [
    "x = np.hstack(([app_a, app_b], [ora_a, ora_b])).T\n",
    "x = np.column_stack((np.ones(x.shape[0]), x))\n",
    "y = np.hstack((np.tile([1], 50), np.tile([-1], 50))).T\n",
    "mcp = MCPerceptron(x.shape, y.shape, epochs=100, lr=1e-1)\n",
    "mcp.train(x, y)\n",
    "W = mcp.get_weights()\n",
    "\n",
    "xmin, xmax = np.min((app_a, ora_a))-5e-3, np.max((app_a, ora_a))+5e-3\n",
    "ymin, ymax = np.min((app_b, ora_b))-5e-3, np.max((app_b, ora_b))+5e-3\n",
    "db_x = np.linspace(xmin, xmax, 100)\n",
    "db_y = np.linspace(ymin, ymax, 100)\n",
    "xx, yy = np.meshgrid(db_x, db_y)\n",
    "Z = mcp.predict(np.c_[np.ones_like(xx.ravel()), xx.ravel(), yy.ravel()])\n",
    "Z = Z.reshape(xx.shape)\n",
    "\n",
    "plt.contourf(xx, yy, Z, cmap='YlOrRd', alpha=0.4)\n",
    "plt.contour(xx, yy, Z, colors='k', linewidths=0.5)\n",
    "plt.plot(app_a, app_b, 'ro', mec='k', mew=0.5, label='apple')\n",
    "plt.plot(ora_a, ora_b, 'o', color='orange', mec='k', mew=0.5, label='orange')\n",
    "\n",
    "decision_boundary = mcp.get_line_params()\n",
    "bounds[2] = decision_boundary\n",
    "decision_title = 'decision boundary: $y = %.2fx + %.2f$' if decision_boundary[1] >= 0 \\\n",
    "                 else 'decision boundary: $y = %.2fx - %.2f$'\n",
    "plt.title(decision_title %(decision_boundary[0], abs(decision_boundary[1])))\n",
    "plt.legend()\n",
    "plt.xlabel('$a^*$')\n",
    "plt.ylabel('$b^*$')\n",
    "plt.xlim(xmin, xmax)\n",
    "plt.ylim(ymin, ymax)\n",
    "# plt.savefig('app-ora_decision.png', dpi=300, bbox_inches='tight')\n",
    "plt.show()"
   ]
  },
  {
   "cell_type": "code",
   "execution_count": null,
   "metadata": {
    "ExecuteTime": {
     "end_time": "2019-10-27T17:01:21.436611Z",
     "start_time": "2019-10-27T17:01:20.061609Z"
    }
   },
   "outputs": [],
   "source": [
    "xmin, xmax = np.min([ban_a, app_a, ora_a]), np.max([ban_a, app_a, ora_a])\n",
    "ymin, ymax = np.min([ban_b, app_b, ora_b]), np.max([ban_b, app_b, ora_b])\n",
    "xh = np.linspace(0, 1)\n",
    "\n",
    "plt.plot(ban_a, ban_b, 'yo', mec='k', mew=0.5, label='banana')\n",
    "plt.plot(app_a, app_b, 'ro', mec='k', mew=0.5, label='apple')\n",
    "plt.plot(ora_a, ora_b, 'o', color='orange', mec='k', mew=0.5, label='orange')\n",
    "\n",
    "for k in bounds:\n",
    "    plt.plot(xh, k[0]*xh + k[1], 'k')\n",
    "\n",
    "plt.legend()\n",
    "plt.xlabel('$a^*$')\n",
    "plt.ylabel('$b^*$')\n",
    "plt.xlim(xmin-5e-3, xmax+5e-3)\n",
    "plt.ylim(ymin-5e-3, ymax+5e-3)\n",
    "# plt.savefig('all_decision.png', dpi=300, bbox_inches='tight')\n",
    "plt.show()"
   ]
  },
  {
   "cell_type": "code",
   "execution_count": null,
   "metadata": {},
   "outputs": [],
   "source": []
  }
 ],
 "metadata": {
  "kernelspec": {
   "display_name": "Python 3",
   "language": "python",
   "name": "python3"
  },
  "language_info": {
   "codemirror_mode": {
    "name": "ipython",
    "version": 3
   },
   "file_extension": ".py",
   "mimetype": "text/x-python",
   "name": "python",
   "nbconvert_exporter": "python",
   "pygments_lexer": "ipython3",
   "version": "3.7.4"
  },
  "latex_envs": {
   "LaTeX_envs_menu_present": true,
   "autoclose": true,
   "autocomplete": false,
   "bibliofile": "biblio.bib",
   "cite_by": "apalike",
   "current_citInitial": 1,
   "eqLabelWithNumbers": true,
   "eqNumInitial": 1,
   "hotkeys": {
    "equation": "Ctrl-E",
    "itemize": "Ctrl-I"
   },
   "labels_anchors": false,
   "latex_user_defs": false,
   "report_style_numbering": false,
   "user_envs_cfg": false
  },
  "varInspector": {
   "cols": {
    "lenName": 16,
    "lenType": 16,
    "lenVar": 40
   },
   "kernels_config": {
    "python": {
     "delete_cmd_postfix": "",
     "delete_cmd_prefix": "del ",
     "library": "var_list.py",
     "varRefreshCmd": "print(var_dic_list())"
    },
    "r": {
     "delete_cmd_postfix": ") ",
     "delete_cmd_prefix": "rm(",
     "library": "var_list.r",
     "varRefreshCmd": "cat(var_dic_list()) "
    }
   },
   "types_to_exclude": [
    "module",
    "function",
    "builtin_function_or_method",
    "instance",
    "_Feature"
   ],
   "window_display": false
  }
 },
 "nbformat": 4,
 "nbformat_minor": 2
}
