{
 "cells": [
  {
   "cell_type": "code",
   "execution_count": 1,
   "metadata": {},
   "outputs": [],
   "source": [
    "import numpy as np\n",
    "import matplotlib.pyplot as plt\n",
    "import pandas as pd\n",
    "import wavio"
   ]
  },
  {
   "cell_type": "code",
   "execution_count": 16,
   "metadata": {},
   "outputs": [
    {
     "data": {
      "text/html": [
       "<div>\n",
       "<style scoped>\n",
       "    .dataframe tbody tr th:only-of-type {\n",
       "        vertical-align: middle;\n",
       "    }\n",
       "\n",
       "    .dataframe tbody tr th {\n",
       "        vertical-align: top;\n",
       "    }\n",
       "\n",
       "    .dataframe thead th {\n",
       "        text-align: right;\n",
       "    }\n",
       "</style>\n",
       "<table border=\"1\" class=\"dataframe\">\n",
       "  <thead>\n",
       "    <tr style=\"text-align: right;\">\n",
       "      <th></th>\n",
       "      <th>Note</th>\n",
       "      <th>Duration</th>\n",
       "    </tr>\n",
       "  </thead>\n",
       "  <tbody>\n",
       "    <tr>\n",
       "      <th>0</th>\n",
       "      <td>G</td>\n",
       "      <td>Quarter</td>\n",
       "    </tr>\n",
       "    <tr>\n",
       "      <th>1</th>\n",
       "      <td>G</td>\n",
       "      <td>Quarter</td>\n",
       "    </tr>\n",
       "    <tr>\n",
       "      <th>2</th>\n",
       "      <td>G</td>\n",
       "      <td>Quarter</td>\n",
       "    </tr>\n",
       "    <tr>\n",
       "      <th>3</th>\n",
       "      <td>D</td>\n",
       "      <td>Quarter</td>\n",
       "    </tr>\n",
       "    <tr>\n",
       "      <th>4</th>\n",
       "      <td>E</td>\n",
       "      <td>Quarter</td>\n",
       "    </tr>\n",
       "  </tbody>\n",
       "</table>\n",
       "</div>"
      ],
      "text/plain": [
       "  Note Duration\n",
       "0    G  Quarter\n",
       "1    G  Quarter\n",
       "2    G  Quarter\n",
       "3    D  Quarter\n",
       "4    E  Quarter"
      ]
     },
     "execution_count": 16,
     "metadata": {},
     "output_type": "execute_result"
    }
   ],
   "source": [
    "data = pd.read_csv('old_mc.csv')\n",
    "data.head()"
   ]
  },
  {
   "cell_type": "code",
   "execution_count": 17,
   "metadata": {},
   "outputs": [],
   "source": [
    "def find_note(x):\n",
    "    multiplier = 1\n",
    "    if x == 'C':\n",
    "        #print(\"C\")\n",
    "        return 523.25 * multiplier\n",
    "    if x == 'B':\n",
    "        #print(\"B\")\n",
    "        return 493.88 * multiplier\n",
    "    if x == 'A':\n",
    "        #print(\"A\")\n",
    "        return 440.0 * multiplier\n",
    "    if x == 'G':\n",
    "        #print(\"G\")\n",
    "        return 392.00 * multiplier\n",
    "    if x == 'F':\n",
    "        #print(\"F\")\n",
    "        return 349.23 * multiplier\n",
    "    if x == 'E':\n",
    "        #print(\"E\")\n",
    "        return 329.63 * multiplier\n",
    "    if x == 'D':\n",
    "        #print(\"D\")\n",
    "        return 293.66 * multiplier\n",
    "    if x == 'C':\n",
    "        #print(\"C\")\n",
    "        return 261.63 * multiplier\n",
    "    if x== 'Rest':\n",
    "        #print('Rest')\n",
    "        return 0"
   ]
  },
  {
   "cell_type": "code",
   "execution_count": 18,
   "metadata": {},
   "outputs": [],
   "source": [
    "frequency = []\n",
    "for i in data['Note']:\n",
    "    frequency.append(find_note(i))"
   ]
  },
  {
   "cell_type": "code",
   "execution_count": 21,
   "metadata": {},
   "outputs": [],
   "source": [
    "def find_time(x, seconds):\n",
    "    if x == 'Quarter':\n",
    "        #print('Quarter')\n",
    "        return seconds\n",
    "    if x == 'Half':\n",
    "        #print('Half')\n",
    "        return seconds * 2\n",
    "    if x == 'Whole':\n",
    "        #print('Whole')\n",
    "        return seconds * 4\n",
    "    if x == 'Eight':\n",
    "        #print('Eight')\n",
    "        return seconds / 2"
   ]
  },
  {
   "cell_type": "code",
   "execution_count": 22,
   "metadata": {},
   "outputs": [],
   "source": [
    "time = []\n",
    "seconds = 0.6 #for quarter\n",
    "\n",
    "for i in data['Duration']:\n",
    "    time.append(find_time(i, seconds))"
   ]
  },
  {
   "cell_type": "code",
   "execution_count": 24,
   "metadata": {},
   "outputs": [
    {
     "data": {
      "text/plain": [
       "61"
      ]
     },
     "execution_count": 24,
     "metadata": {},
     "output_type": "execute_result"
    }
   ],
   "source": [
    "len(time)"
   ]
  },
  {
   "cell_type": "code",
   "execution_count": 26,
   "metadata": {},
   "outputs": [
    {
     "name": "stderr",
     "output_type": "stream",
     "text": [
      "/anaconda3/lib/python3.7/site-packages/ipykernel_launcher.py:6: DeprecationWarning: object of type <class 'float'> cannot be safely interpreted as an integer.\n",
      "  \n"
     ]
    }
   ],
   "source": [
    "sound = []\n",
    "rate = 22050  # samples per second\n",
    "for i in range(int(len(frequency))):\n",
    "    T = time[i]     # sample duration (seconds)\n",
    "    f = frequency[i] # sound frequency (Hz)\n",
    "    t = np.linspace(0, T, T*rate, endpoint=False)\n",
    "    sound.append(np.sin(2*np.pi * f * t))\n",
    "    #print(i)"
   ]
  },
  {
   "cell_type": "code",
   "execution_count": 27,
   "metadata": {},
   "outputs": [],
   "source": [
    "wavio.write(\"old_mcdonald_full.wav\", np.concatenate(np.array(sound)), rate, sampwidth=3)"
   ]
  },
  {
   "cell_type": "code",
   "execution_count": null,
   "metadata": {},
   "outputs": [],
   "source": []
  }
 ],
 "metadata": {
  "kernelspec": {
   "display_name": "Python 3",
   "language": "python",
   "name": "python3"
  },
  "language_info": {
   "codemirror_mode": {
    "name": "ipython",
    "version": 3
   },
   "file_extension": ".py",
   "mimetype": "text/x-python",
   "name": "python",
   "nbconvert_exporter": "python",
   "pygments_lexer": "ipython3",
   "version": "3.7.3"
  }
 },
 "nbformat": 4,
 "nbformat_minor": 2
}
